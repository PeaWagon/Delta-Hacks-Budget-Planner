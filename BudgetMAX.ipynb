{
 "cells": [
  {
   "cell_type": "code",
   "execution_count": 1,
   "metadata": {},
   "outputs": [
    {
     "name": "stdout",
     "output_type": "stream",
     "text": [
      "Random Username: Xrian\n"
     ]
    }
   ],
   "source": [
    "# we can generate random usernames for\n",
    "# our database\n",
    "\n",
    "from budgeter.create_user import create_username\n",
    "\n",
    "user2 = create_username()\n",
    "print(\"Random Username:\", user2)"
   ]
  },
  {
   "cell_type": "code",
   "execution_count": 2,
   "metadata": {},
   "outputs": [
    {
     "name": "stdout",
     "output_type": "stream",
     "text": [
      "Random Transaction: {'Year': 2019, 'Month': 'July', 'Day': 6, 'Company Name': 'Freshii', 'Category': 'Restaurants', 'Amount': 222.7421628242973, 'is_yearly': False, 'is_monthly': False}\n"
     ]
    }
   ],
   "source": [
    "# or we can generate a single random transaction\n",
    "\n",
    "from budgeter.create_user import create_transaction\n",
    "\n",
    "transaction1 = create_transaction()\n",
    "print(\"Random Transaction:\", transaction1)"
   ]
  },
  {
   "cell_type": "code",
   "execution_count": 3,
   "metadata": {},
   "outputs": [
    {
     "data": {
      "text/plain": [
       "[2014,\n",
       " 'September',\n",
       " 14,\n",
       " 'Jiffy',\n",
       " 'Home Maintenance/Furniture',\n",
       " 376.0229835367287,\n",
       " False,\n",
       " False]"
      ]
     },
     "execution_count": 3,
     "metadata": {},
     "output_type": "execute_result"
    }
   ],
   "source": [
    "# for development purposes, we have the ability to\n",
    "# create random user datasets\n",
    "from budgeter.create_user import create_user\n",
    "\n",
    "# create a user that has 100 random transactions\n",
    "user = create_user(100)\n",
    "\n",
    "# look at a random transaction\n",
    "user[5]"
   ]
  },
  {
   "cell_type": "code",
   "execution_count": 4,
   "metadata": {},
   "outputs": [
    {
     "name": "stdout",
     "output_type": "stream",
     "text": [
      "{'Lit Espresso Bar', 'Extra Foods', 'Provigo', 'Staples', 'Barburrito (Canada)', 'Wal-Mart', 'Dollarama', 'Blenz Coffee', 'A&B Sound', 'Megamart', 'SaveEasy', 'Marshalls', 'Le Hibou Coffee House', \"Baker's Dozen Donuts\", 'Canadian Tire', 'Mr. Handyman', 'The Brick', 'Kobo Inc.', 'Valu-mart', 'La Diperie', 'London Drugs', 'Jiffy', 'Jean Coutu Group', 'Home Depot', 'Grand & Toy', 'Loblaws', \"Jack Astor's Bar and Grill\", 'Beyond the Rack', 'Mmmuffins', 'Country Style', \"Balzac's Coffee Roasters\", 'Japan Camera', 'Wired Monk', 'PharmaChoice', 'Urban Behavior', 'Moores', 'InterTAN', 'Quality Foods'}\n"
     ]
    }
   ],
   "source": [
    "# look at where purchases were made above 300$\n",
    "over_300 = []\n",
    "for transaction in user:\n",
    "    if transaction[5] > 300:\n",
    "        over_300.append(transaction)\n",
    "result = [x[3] for x in  over_300 if x[3]]\n",
    "print(set(result))"
   ]
  },
  {
   "cell_type": "code",
   "execution_count": 5,
   "metadata": {},
   "outputs": [
    {
     "name": "stdout",
     "output_type": "stream",
     "text": [
      "2\n",
      "['2019', '05', '01', 'Laura', 'Clothing', 50.3, False, False]\n"
     ]
    }
   ],
   "source": [
    "# we can generate an instance of a user class\n",
    "# and add a personalised purchase\n",
    "# in the future, this would be automated by taking\n",
    "# a picture of a receipt\n",
    "# the is_yearly and is_monthly allow the user\n",
    "# to keep track of recurring bill payments\n",
    "\n",
    "from budgeter.userdata import UserData\n",
    "\n",
    "user = UserData(\"Jen\")\n",
    "user.add_item({\"Year\": 2019,\n",
    "               \"Month\": \"January\",\n",
    "                \"Day\": 27,\n",
    "                \"Company Name\": \"Tim Hortons\",\n",
    "                \"Category\": \"Coffee Shops\",\n",
    "                \"Amount\": 5000,\n",
    "                \"is_yearly\": True,\n",
    "                \"is_monthly\": False\n",
    "               })\n",
    "user.add_item_simple([\"01-05-2019\", \"Laura\", 50.30])\n",
    "print(user.num_transactions)\n",
    "print(user[1])"
   ]
  },
  {
   "cell_type": "code",
   "execution_count": 6,
   "metadata": {},
   "outputs": [
    {
     "name": "stdout",
     "output_type": "stream",
     "text": [
      "Monthly Transaction IDs January 2019: [190, 211, 379, 414]\n"
     ]
    }
   ],
   "source": [
    "# create a random user dataset again\n",
    "user = create_user(500)\n",
    "\n",
    "# see which transaction numbers were made in January\n",
    "# of this year\n",
    "print(\"Monthly Transaction IDs January 2019:\",\n",
    "      user.monthly_expenses(\"January\", 2019))"
   ]
  },
  {
   "cell_type": "code",
   "execution_count": 7,
   "metadata": {},
   "outputs": [
    {
     "name": "stdout",
     "output_type": "stream",
     "text": [
      "Yearly Transaction IDs 2012: [13, 20, 23, 26, 33, 37, 42, 43, 45, 50, 65, 67, 78, 79, 81, 89, 102, 115, 118, 126, 135, 141, 149, 164, 178, 192, 198, 206, 210, 220, 222, 239, 241, 252, 255, 257, 262, 269, 279, 280, 311, 313, 319, 322, 333, 359, 361, 368, 372, 374, 377, 387, 396, 399, 400, 422, 430, 434, 438, 441, 442, 443, 455, 461, 471, 482, 491, 492]\n"
     ]
    }
   ],
   "source": [
    "# see which transaction numbers were made in 2012\n",
    "print(\"Yearly Transaction IDs 2012:\",\n",
    "      user.yearly_expenses(2012))"
   ]
  },
  {
   "cell_type": "code",
   "execution_count": 8,
   "metadata": {},
   "outputs": [
    {
     "data": {
      "image/png": "[encoded data removed]",
      "text/plain": [
       "<Figure size 432x288 with 1 Axes>"
      ]
     },
     "metadata": {},
     "output_type": "display_data"
    }
   ],
   "source": [
    "# make a piegraph demonstrating the breakdown\n",
    "# of purchase categories in a given month\n",
    "user.monthly_piegraph(\"March\")"
   ]
  },
  {
   "cell_type": "code",
   "execution_count": null,
   "metadata": {},
   "outputs": [],
   "source": []
  },
  {
   "cell_type": "code",
   "execution_count": null,
   "metadata": {},
   "outputs": [],
   "source": []
  },
  {
   "cell_type": "code",
   "execution_count": null,
   "metadata": {},
   "outputs": [],
   "source": []
  }
 ],
 "metadata": {
  "kernelspec": {
   "display_name": "Python 3",
   "language": "python",
   "name": "python3"
  },
  "language_info": {
   "codemirror_mode": {
    "name": "ipython",
    "version": 3
   },
   "file_extension": ".py",
   "mimetype": "text/x-python",
   "name": "python",
   "nbconvert_exporter": "python",
   "pygments_lexer": "ipython3",
   "version": "3.6.8"
  }
 },
 "nbformat": 4,
 "nbformat_minor": 2
}
